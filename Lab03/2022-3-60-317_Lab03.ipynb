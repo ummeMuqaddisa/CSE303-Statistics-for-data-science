{
  "nbformat": 4,
  "nbformat_minor": 0,
  "metadata": {
    "colab": {
      "provenance": []
    },
    "kernelspec": {
      "name": "python3",
      "display_name": "Python 3"
    },
    "language_info": {
      "name": "python"
    }
  },
  "cells": [
    {
      "cell_type": "code",
      "execution_count": 10,
      "metadata": {
        "id": "e8fd3N2VrEqb"
      },
      "outputs": [],
      "source": [
        "import pandas as pd\n",
        "path=\"/content/drive/MyDrive/csv/students_marks.csv\"\n"
      ]
    },
    {
      "cell_type": "code",
      "source": [
        "#Read the DataSet from CSV\n",
        "\n",
        "df=pd.read_csv(path)\n",
        "print(f'The dataset is: ')\n",
        "print(df.head(1001))"
      ],
      "metadata": {
        "colab": {
          "base_uri": "https://localhost:8080/"
        },
        "id": "dk-gUxz7usvI",
        "outputId": "5431901b-5b52-40f4-a230-508d13c921d0"
      },
      "execution_count": 13,
      "outputs": [
        {
          "output_type": "stream",
          "name": "stdout",
          "text": [
            "The dataset is: \n",
            "    Student_ID  Physics  Chemistry  Biology  Mathematics  English\n",
            "0     STUD0001       78         73       85           98       65\n",
            "1     STUD0002       91         67       54           45       44\n",
            "2     STUD0003       68         70       48           80       74\n",
            "3     STUD0004       54         47       54           78       67\n",
            "4     STUD0005       82         78       88           43       68\n",
            "..         ...      ...        ...      ...          ...      ...\n",
            "995   STUD0996       43         76       75           72       42\n",
            "996   STUD0997       40         64       42           43       67\n",
            "997   STUD0998       88         87       48           64       45\n",
            "998   STUD0999       79         40       47           59       83\n",
            "999   STUD1000       71         92       72           73       83\n",
            "\n",
            "[1000 rows x 6 columns]\n"
          ]
        }
      ]
    },
    {
      "cell_type": "code",
      "source": [
        "#Prompt user to choose a subject\n",
        "\n",
        "print(\"Aavilable subjects: \")\n",
        "print(df.columns[1:])\n",
        "subject=input(\"Enter the subject: \")\n",
        "\n",
        "#Statistics for the subject chosen\n",
        "\n",
        "if subject in df.columns:\n",
        "  data=df[subject]\n",
        "  mean=data.mean()\n",
        "  median=data.median()\n",
        "  mode=data.mode().tolist()\n"
      ],
      "metadata": {
        "colab": {
          "base_uri": "https://localhost:8080/"
        },
        "id": "uYEdsSXnux2E",
        "outputId": "0f01dd5a-413d-4fbf-e95a-945cbce6e42d"
      },
      "execution_count": 25,
      "outputs": [
        {
          "name": "stdout",
          "output_type": "stream",
          "text": [
            "Aavilable subjects: \n",
            "Index(['Physics', 'Chemistry', 'Biology', 'Mathematics', 'English'], dtype='object')\n",
            "Enter the subject: math\n"
          ]
        }
      ]
    },
    {
      "cell_type": "code",
      "source": [
        "import numpy as np\n",
        "import matplotlib.pyplot as plt\n",
        "from collections import Counter\n",
        "\n",
        "#Statistics for the subject chosen\n",
        "if subject in df.columns:\n",
        "  data=df[subject]\n",
        "  mean_val=np.mean(data)\n",
        "  median_val=np.median(data)\n",
        "  mode_val=Counter(data).most_common(1)[0][0]\n",
        "  var_val=np.var(data, ddof=1)\n",
        "  std_val=np.std(data, ddof=1)\n",
        "\n",
        "  print(\"Mean: \",mean_val)\n",
        "  print(\"Mrdian: \",median_val)\n",
        "  print(\"Mode: \", mode_val)\n",
        "  print(\"Variance: \", var_val)\n",
        "  print(\"Standard Deviation: \", std_val)\n",
        "\n",
        "else:\n",
        "  print(f'Subject is not the dataset')\n",
        "\n",
        "\n"
      ],
      "metadata": {
        "colab": {
          "base_uri": "https://localhost:8080/"
        },
        "id": "PaDdRclOy6Bo",
        "outputId": "337d2e0c-6f99-43fd-8788-a57966ac1633"
      },
      "execution_count": 26,
      "outputs": [
        {
          "output_type": "stream",
          "name": "stdout",
          "text": [
            "Subject is not the dataset\n"
          ]
        }
      ]
    }
  ]
}