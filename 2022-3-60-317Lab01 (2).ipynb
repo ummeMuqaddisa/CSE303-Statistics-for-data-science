{
  "nbformat": 4,
  "nbformat_minor": 0,
  "metadata": {
    "colab": {
      "provenance": []
    },
    "kernelspec": {
      "name": "python3",
      "display_name": "Python 3"
    },
    "language_info": {
      "name": "python"
    }
  },
  "cells": [
    {
      "cell_type": "code",
      "execution_count": null,
      "metadata": {
        "colab": {
          "base_uri": "https://localhost:8080/"
        },
        "id": "q8PD4CEy901X",
        "outputId": "0777621d-b4e6-4af0-b006-76c7beebb027"
      },
      "outputs": [
        {
          "output_type": "stream",
          "name": "stdout",
          "text": [
            "Enter the number: 100\n",
            "Enter the numberr: 50\n",
            "Product is 5000\n",
            "Sum is 150\n"
          ]
        }
      ],
      "source": [
        "number1= int(input(\"Enter the number: \"))\n",
        "number2= int(input(\"Enter the numberr: \"))\n",
        "product= number1*number2\n",
        "sum=number1+number2\n",
        "print(f'Product is {product}');\n",
        "if(product>1000):\n",
        " print(f'Sum is {sum}');"
      ]
    },
    {
      "cell_type": "code",
      "source": [
        "radius=int(input(\"Enter the radius: \"))\n",
        "area=3.1416*radius*radius\n",
        "perimeter=2*3.1416*radius\n",
        "print(f'Radius is {radius}');\n",
        "print(f'Perimeter is {perimeter}');"
      ],
      "metadata": {
        "colab": {
          "base_uri": "https://localhost:8080/"
        },
        "id": "uKuKrdS7At_5",
        "outputId": "d9af6d0c-69df-463a-ed9f-caa0b35dfbe7"
      },
      "execution_count": null,
      "outputs": [
        {
          "output_type": "stream",
          "name": "stdout",
          "text": [
            "Enter the radius: 4\n",
            "Radius is 4\n",
            "Perimeter is 25.1328\n"
          ]
        }
      ]
    },
    {
      "cell_type": "code",
      "source": [
        "P=float(input(\"Enter the principle amount: \"))\n",
        "R=float(input('Enter the interest rate: '))\n",
        "T=float(input(\"Enter the time: \"))\n",
        "def compound_interset_2022_3_60_317 (P,R,T):\n",
        " A=P*(1+R/100)**T\n",
        " return A\n",
        "amount= compound_interset_2022_3_60_317(P,R,T)\n",
        "interest= amount-P;\n",
        "\n",
        "print(f'Interest after {T} year is {interest}')"
      ],
      "metadata": {
        "colab": {
          "base_uri": "https://localhost:8080/"
        },
        "id": "VrUHwPpaBTJp",
        "outputId": "78181667-6286-42c4-9184-0634bfe71208"
      },
      "execution_count": null,
      "outputs": [
        {
          "output_type": "stream",
          "name": "stdout",
          "text": [
            "Enter the principle amount: 1200\n",
            "Enter the interest rate: 5\n",
            "Enter the time: 3\n",
            "Interest after 3.0 year is 189.1500000000001\n"
          ]
        }
      ]
    },
    {
      "cell_type": "code",
      "source": [
        "N=int(input(\"Enter the range: \"))\n",
        "total=0;\n",
        "for i in range(1,N+1):\n",
        "  total=total+i**2\n",
        "\n",
        "\n",
        "print(f'Total is {total}')\n"
      ],
      "metadata": {
        "colab": {
          "base_uri": "https://localhost:8080/"
        },
        "id": "kdJO-G4v_D6l",
        "outputId": "fea51406-5379-48d5-8e1b-bdc1722f9ade"
      },
      "execution_count": null,
      "outputs": [
        {
          "output_type": "stream",
          "name": "stdout",
          "text": [
            "Enter the range: 5\n",
            "Total is 55\n"
          ]
        }
      ]
    },
    {
      "cell_type": "code",
      "source": [
        "N=int(input(\"Enter the number: \"))\n",
        "total=0;\n",
        "def prime_find_2022_3_60_317(N,total):\n",
        "  for i in range(2,N):\n",
        "    if((N%i)==0):\n",
        "      total=total+1\n",
        "    else:\n",
        "      total=total+0\n",
        "  if(total==0):\n",
        "    return True\n",
        "  else:\n",
        "    return False\n",
        "if prime_find_2022_3_60_317(N,total):\n",
        " print(f'The number is prime')\n",
        "else:\n",
        "  print(f'The number is not prime')\n",
        "\n"
      ],
      "metadata": {
        "colab": {
          "base_uri": "https://localhost:8080/"
        },
        "id": "coEwhqGyBbrp",
        "outputId": "04c5fd68-7d22-422a-ba21-775812fab49d"
      },
      "execution_count": null,
      "outputs": [
        {
          "output_type": "stream",
          "name": "stdout",
          "text": [
            "Enter the number: 7\n",
            "The number is prime\n"
          ]
        }
      ]
    },
    {
      "cell_type": "code",
      "source": [
        "n=int(input(\"Enter the number: \"))\n",
        "total=0;\n",
        "F0=0\n",
        "F1=1\n",
        "for i in range(1,N):\n",
        "  temp=F0+F1\n",
        "  F0=F1\n",
        "  F1=temp\n",
        "\n",
        "\n",
        "print(f'{n}th fibonacci number is {F1}' )\n",
        "\n"
      ],
      "metadata": {
        "colab": {
          "base_uri": "https://localhost:8080/"
        },
        "id": "pmDhBmufIcsM",
        "outputId": "3c959325-a870-471a-b563-34a7ccfc7448"
      },
      "execution_count": null,
      "outputs": [
        {
          "output_type": "stream",
          "name": "stdout",
          "text": [
            "Enter the number: 7\n",
            "7th fibonacci number is 13\n"
          ]
        }
      ]
    },
    {
      "cell_type": "code",
      "source": [
        "L=[1,2,3,4,5]\n",
        "sum=0\n",
        "for i in L:\n",
        "  sum=sum+i\n",
        "\n",
        "print(f'Sum is {sum}')\n",
        "\n"
      ],
      "metadata": {
        "colab": {
          "base_uri": "https://localhost:8080/"
        },
        "id": "CSYz4R6YL9DV",
        "outputId": "f56a4b21-8868-4ee5-aea3-75e58cfac831"
      },
      "execution_count": null,
      "outputs": [
        {
          "output_type": "stream",
          "name": "stdout",
          "text": [
            "Sum is 15\n"
          ]
        }
      ]
    },
    {
      "cell_type": "code",
      "source": [
        "L=[1,2,3,4,5]\n",
        "sum=0\n",
        "for i in range(0,len(L)):\n",
        "  if(i%2==0):\n",
        "    sum=sum+L[i]\n",
        "\n",
        "print(f'Sum is {sum}')\n",
        "\n"
      ],
      "metadata": {
        "colab": {
          "base_uri": "https://localhost:8080/"
        },
        "id": "LWIa3r2NNPxa",
        "outputId": "215c7b54-f23c-44f7-ba0f-31db7cff95cf"
      },
      "execution_count": null,
      "outputs": [
        {
          "output_type": "stream",
          "name": "stdout",
          "text": [
            "Sum is 9\n"
          ]
        }
      ]
    },
    {
      "cell_type": "code",
      "source": [
        "L=[1,2,3,4,5]\n",
        "def smallest_number_2022_3_60_317(L):\n",
        "  min_val=L[0]\n",
        "  for i in range(0,len(L)):\n",
        "    if(L[i]<min_val):\n",
        "      min_val=L[i]\n",
        "  return min_val;\n",
        "\n",
        "def largest_number_2022_3_60_317(L):\n",
        "  max_val=L[0]\n",
        "  for i in range(0,len(L)):\n",
        "   if(L[i]>max_val):\n",
        "    max_val=L[i]\n",
        "  return max_val\n",
        "\n",
        "min_result=smallest_number_2022_3_60_317(L)\n",
        "max_result=largest_number_2022_3_60_317(L)\n",
        "\n",
        "print(f'max is {max_result}')\n",
        "print(f' min is  {min_result}')\n",
        "\n",
        "\n"
      ],
      "metadata": {
        "colab": {
          "base_uri": "https://localhost:8080/"
        },
        "id": "NAPzuIHcOWle",
        "outputId": "d341d670-e25f-4710-f3cf-4cbc2572afc3"
      },
      "execution_count": null,
      "outputs": [
        {
          "output_type": "stream",
          "name": "stdout",
          "text": [
            "max is 5\n",
            " min is  1\n"
          ]
        }
      ]
    },
    {
      "cell_type": "code",
      "source": [
        "L=[1,2,3,4,5]\n",
        "\n",
        "def second_largest_number_2022_3_60_317(L):\n",
        "  max_val=L[0]\n",
        "  max_val2=max_val\n",
        "  for i in range(0,len(L)):\n",
        "   if(L[i]>max_val):\n",
        "    max_val2=max_val\n",
        "    max_val=L[i]\n",
        "  return max_val2\n",
        "\n",
        "max_result=second_largest_number_2022_3_60_317(L)\n",
        "\n",
        "print(f'Second max is {max_result}')\n",
        "\n",
        "\n",
        "\n"
      ],
      "metadata": {
        "colab": {
          "base_uri": "https://localhost:8080/"
        },
        "id": "ekm60cjsTKsL",
        "outputId": "6ad7b49c-558b-4e88-b4df-c6a8c82b9f4f"
      },
      "execution_count": null,
      "outputs": [
        {
          "output_type": "stream",
          "name": "stdout",
          "text": [
            "Second max is 4\n"
          ]
        }
      ]
    },
    {
      "cell_type": "code",
      "source": [
        "string=input(\"Enter the string: \")\n",
        "for i in range(len(string)):\n",
        "  if(i%2==0):\n",
        "    print(f'Even characters at index {i} is {string[i]}')\n",
        "\n"
      ],
      "metadata": {
        "colab": {
          "base_uri": "https://localhost:8080/"
        },
        "id": "Z6m8kFrtYp8N",
        "outputId": "f3c3641f-9208-41d4-d7c8-26edd03e4890"
      },
      "execution_count": null,
      "outputs": [
        {
          "output_type": "stream",
          "name": "stdout",
          "text": [
            "Enter the string: i hate study\n",
            "Even characters at index 0 is i\n",
            "Even characters at index 2 is h\n",
            "Even characters at index 4 is t\n",
            "Even characters at index 6 is  \n",
            "Even characters at index 8 is t\n",
            "Even characters at index 10 is d\n"
          ]
        }
      ]
    },
    {
      "cell_type": "code",
      "source": [
        "string=input(\"Enter the string: \")\n",
        "num=int(input(\"Enter the number: \"))\n",
        "string2=\"\"\n",
        "if(num<len(string)):\n",
        "  for i in range(len(string)):\n",
        "    if(i>=num):\n",
        "      string2=string2+string[i]\n",
        "\n",
        "  print(f'New text is {string2}')\n",
        "else:\n",
        "  print(f'Error')"
      ],
      "metadata": {
        "colab": {
          "base_uri": "https://localhost:8080/"
        },
        "id": "7AOuWbbUa84c",
        "outputId": "ff58def3-9a06-4c19-ab8e-b5956c6bc1f4"
      },
      "execution_count": null,
      "outputs": [
        {
          "output_type": "stream",
          "name": "stdout",
          "text": [
            "Enter the string: lala\n",
            "Enter the number: 2\n",
            "New text is la\n"
          ]
        }
      ]
    },
    {
      "cell_type": "code",
      "source": [
        "string=input(\"Enter the text: \")\n",
        "count=0\n",
        "string2=\"CSE303\"\n",
        "j=0\n",
        "for i in range(len(string)):\n",
        "  if(string[i]!=string2[j]):\n",
        "    j=0\n",
        "  elif(j==5):\n",
        "    count=count+1\n",
        "    j=0\n",
        "  else:\n",
        "    j=j+1\n",
        "print(f'{count}')"
      ],
      "metadata": {
        "colab": {
          "base_uri": "https://localhost:8080/"
        },
        "id": "MoJf6F8kfjNn",
        "outputId": "f2da6e37-a9b0-4205-d14e-f81accb77aa4"
      },
      "execution_count": null,
      "outputs": [
        {
          "output_type": "stream",
          "name": "stdout",
          "text": [
            "Enter the text: CSE303jssdfCSE303\n",
            "2\n"
          ]
        }
      ]
    },
    {
      "cell_type": "code",
      "source": [
        "string=input(\"Enter the text: \")\n",
        "\n",
        "def palindrome_checker_2022_3_60_317(string):\n",
        "  string2=\"\"\n",
        "  for i in range(len(string)-1,-1,-1):\n",
        "    string2=string2+string[i]\n",
        "  if(string==string2):\n",
        "    return True\n",
        "  else:\n",
        "    return False\n",
        "\n",
        "if(palindrome_checker_2022_3_60_317(string)):\n",
        "  print(f'Text is palindrome')\n",
        "else:\n",
        "  print(f'Text is not palindrome')"
      ],
      "metadata": {
        "id": "9anTOMhvhntk",
        "colab": {
          "base_uri": "https://localhost:8080/"
        },
        "outputId": "44d97685-b2eb-4c21-9306-d48beafa289e"
      },
      "execution_count": null,
      "outputs": [
        {
          "output_type": "stream",
          "name": "stdout",
          "text": [
            "Enter the text: madam\n",
            "Text is palindrome\n"
          ]
        }
      ]
    },
    {
      "cell_type": "code",
      "source": [
        "list1=[1,2,3,4,5]\n",
        "list2=[6,7,8,9,10]\n",
        "list3=[]\n",
        "\n",
        "for i in range(len(list1)):\n",
        "  if(list1[i]%2!=0):\n",
        "    list3.append(list1[i])\n",
        "  elif(list2[i]%2==0):\n",
        "    list3.append(list2[i])\n",
        "\n",
        "print(f'New list is {list3}')"
      ],
      "metadata": {
        "colab": {
          "base_uri": "https://localhost:8080/"
        },
        "id": "Y3LblDQIWoVc",
        "outputId": "c51d98ae-97eb-4b4f-a698-f9416beb3cc4"
      },
      "execution_count": null,
      "outputs": [
        {
          "output_type": "stream",
          "name": "stdout",
          "text": [
            "New list is [1, 3, 5]\n"
          ]
        }
      ]
    }
  ]
}